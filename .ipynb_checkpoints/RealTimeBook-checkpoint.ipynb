{
 "cells": [
  {
   "cell_type": "code",
   "execution_count": null,
   "metadata": {},
   "outputs": [],
   "source": [
    "import json\n",
    "import websockets\n",
    "import asyncio\n",
    "\n",
    "async def subscribeToChannel(url,params,trade):\n",
    "    async with websockets.connect(url) as ws:\n",
    "        await ws.send(params)\n",
    "        while True:\n",
    "            result = await ws.recv()\n",
    "            result = json.loads(\"\".join(list(format(result))))\n",
    "            #join(list(result)) is faster than join on the generator \n",
    "            # -> src: https://stackoverflow.com/questions/14447081/python-generator-objects-and-join\n",
    "            print (trade+\": {} \".format(result))\n",
    "\n",
    "\n",
    "\n",
    "btcusd = json.dumps({\n",
    "            \"event\": \"subscribe\",\n",
    "            \"channel\": \"book\",\n",
    "            \"pair\": \"BTCUSD\",\n",
    "            \"prec\": \"P0\",\n",
    "            \"freq\": \"F0\",\n",
    "            \"len\": \"25\" \n",
    "        })\n",
    "\n",
    "ethbtc = json.dumps({\n",
    "            \"event\": \"subscribe\",\n",
    "            \"channel\": \"book\",\n",
    "            \"pair\": \"ETHBTC\",\n",
    "            \"prec\": \"P0\",\n",
    "            \"freq\": \"F0\",\n",
    "            \"len\": \"25\" \n",
    "        })\n",
    "\n",
    "ethusd = json.dumps({\n",
    "            \"event\": \"subscribe\",\n",
    "            \"channel\": \"book\",\n",
    "            \"pair\": \"ETHUSD\",\n",
    "            \"prec\": \"P0\",\n",
    "            \"freq\": \"F0\",\n",
    "            \"len\": \"25\" \n",
    "        })\n",
    "\n",
    "address = \"wss://api.bitfinex.com/ws/2\"\n",
    "\n",
    "\n",
    "asyncio.get_event_loop().run_until_complete(asyncio.gather(\n",
    "    subscribeToChannel(address,btcusd,\"BTC/USD\"),\n",
    "    subscribeToChannel(address,ethbtc,\"ETH/BTC\"),\n",
    "    subscribeToChannel(address,ethusd,\"ETH/USD\")))\n",
    "\n",
    "#asyncio.ensure_future(subscribeToChannel(address,btcusd,\"BTC/USD\"))\n",
    "# asyncio.get_event_loop().run_until_complete(subscribeToChannel(address,ethbtc,\"ETH/BTC\"))\n",
    "# asyncio.get_event_loop().run_until_complete(subscribeToChannel(address,ethusd,\"ETH/USD\"))\n"
   ]
  }
 ],
 "metadata": {
  "kernelspec": {
   "display_name": "Python 3",
   "language": "python",
   "name": "python3"
  },
  "language_info": {
   "codemirror_mode": {
    "name": "ipython",
    "version": 3
   },
   "file_extension": ".py",
   "mimetype": "text/x-python",
   "name": "python",
   "nbconvert_exporter": "python",
   "pygments_lexer": "ipython3",
   "version": "3.5.2"
  }
 },
 "nbformat": 4,
 "nbformat_minor": 2
}
